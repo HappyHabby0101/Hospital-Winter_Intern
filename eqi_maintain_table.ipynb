{
 "cells": [
  {
   "cell_type": "markdown",
   "metadata": {},
   "source": [
    "保養歷程圖片紀錄"
   ]
  },
  {
   "cell_type": "code",
   "execution_count": 7,
   "metadata": {},
   "outputs": [],
   "source": [
    "# 圖表函式\n",
    "import os\n",
    "import pandas as pd\n",
    "import matplotlib.pyplot as plt\n",
    "from pylab import matplotlib\n",
    "from pandas.plotting import table\n",
    "\n",
    "def generate_maintenance_record_image(df_eqi, device_id, save_folder):\n",
    "    # 根據設備編號篩選 DataFrame\n",
    "    df_eqi_each = df_eqi[df_eqi['財產編號'] == device_id]\n",
    "    \n",
    "    # con01 = df_eqi_each['保養結果'].notna()  # 無遺失值\n",
    "    con02 = df_eqi_each['保養結果'].isna()   # 有遺失值\n",
    "    con03 = df_eqi_each['保養描述'].notna()\n",
    "    con04 = df_eqi_each['保養描述'].isna()\n",
    "\n",
    "    df_eqi_each.loc[con02 & con03, '保養結果'] = '功能異常/因疫情未保養'\n",
    "    df_eqi_each.loc[con02 & con04, '保養結果'] = '尚未保養'\n",
    "\n",
    "    # 篩選需要的欄位\n",
    "    df_filtered = df_eqi_each[['表單編號', '財產編號', '儀器名稱', '成本中心名稱', '保養結果']]\n",
    "    df_filtered = df_filtered.reset_index(drop=True)  # 刪除 index\n",
    "    df_filtered = df_filtered.sort_values(by='表單編號', ascending=False) # 日期排序\n",
    "    \n",
    "    # 中文字體\n",
    "    matplotlib.rcParams['font.family'] = ['MingLiU', 'sans-serif']\n",
    "    \n",
    "    # 生成表格圖片\n",
    "    if not df_filtered.empty:\n",
    "        fig, ax = plt.subplots(figsize=(8, 4))\n",
    "        ax.axis('off')\n",
    "\n",
    "        df_filtered = df_filtered.reset_index(drop=True)\n",
    "        tbl = table(ax, df_filtered, loc='center', colWidths=[0.4]*len(df_filtered.columns), cellLoc='center')  # 調整列寬\n",
    "        tbl.auto_set_font_size(False)\n",
    "        tbl.set_fontsize(10)\n",
    "        tbl.scale(1.2, 1.2)\n",
    "        # plt.show()\n",
    "        \n",
    "        # 存檔\n",
    "        file_name = f'{device_id}_table.png'\n",
    "        file_path = os.path.join(save_folder, file_name)\n",
    "        plt.savefig(file_path, bbox_inches='tight', pad_inches=0.5)\n",
    "        plt.close()"
   ]
  },
  {
   "cell_type": "markdown",
   "metadata": {},
   "source": [
    "測試：電擊器、麻醉機、呼吸器"
   ]
  },
  {
   "cell_type": "code",
   "execution_count": 9,
   "metadata": {},
   "outputs": [],
   "source": [
    "# 電擊器\n",
    "file_path_AED = 'E:/Python Practice/QRcode/AEDlist.xlsx'\n",
    "df_eqi_AED = pd.read_excel(file_path_AED, engine='openpyxl')\n",
    "list_AED = df_eqi_AED['財產編號'].unique().tolist()\n",
    "save_folder = 'E:/Python Practice/QRcode/AED/'\n",
    "\n",
    "for id in list_AED:\n",
    "    generate_maintenance_record_image(df_eqi_AED, id, save_folder)"
   ]
  },
  {
   "cell_type": "code",
   "execution_count": 10,
   "metadata": {},
   "outputs": [],
   "source": [
    "# 麻醉機\n",
    "file_path_AnesthesiaMachine = 'E:/Python Practice/QRcode/麻醉機list.xlsx'\n",
    "df_eqi_AnesthesiaMachine = pd.read_excel(file_path_AnesthesiaMachine, engine='openpyxl')\n",
    "list_AnesthesiaMachine = df_eqi_AnesthesiaMachine['財產編號'].unique().tolist()\n",
    "save_folder = 'E:/Python Practice/QRcode/麻醉機'\n",
    "for id in list_AnesthesiaMachine:\n",
    "    generate_maintenance_record_image(df_eqi_AnesthesiaMachine, id, save_folder)"
   ]
  },
  {
   "cell_type": "code",
   "execution_count": 11,
   "metadata": {},
   "outputs": [],
   "source": [
    "# 呼吸器\n",
    "file_path_respirator = 'E:/Python Practice/QRcode/呼吸器list.xlsx'\n",
    "df_eqi_respirator = pd.read_excel(file_path_respirator, engine='openpyxl')\n",
    "list_respirator = df_eqi_respirator['財產編號'].unique().tolist()\n",
    "save_folder = 'E:/Python Practice/QRcode/呼吸器'\n",
    "for id in list_respirator:\n",
    "    generate_maintenance_record_image(df_eqi_respirator, id, save_folder)"
   ]
  }
 ],
 "metadata": {
  "kernelspec": {
   "display_name": ".venv",
   "language": "python",
   "name": "python3"
  },
  "language_info": {
   "codemirror_mode": {
    "name": "ipython",
    "version": 3
   },
   "file_extension": ".py",
   "mimetype": "text/x-python",
   "name": "python",
   "nbconvert_exporter": "python",
   "pygments_lexer": "ipython3",
   "version": "3.11.5"
  }
 },
 "nbformat": 4,
 "nbformat_minor": 2
}
