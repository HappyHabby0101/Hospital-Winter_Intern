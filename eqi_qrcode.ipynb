{
 "cells": [
  {
   "cell_type": "code",
   "execution_count": 1,
   "metadata": {},
   "outputs": [],
   "source": [
    "# 產生QRcode 範例\n",
    "import qrcode\n",
    "qr = qrcode.QRCode(\n",
    "    version=1,\n",
    "    error_correction=qrcode.constants.ERROR_CORRECT_L,\n",
    "    box_size=10,\n",
    "    border=4\n",
    ")\n",
    "qr.add_data('https://bmed.tahsda.org.tw/bmedmgt/MedEngMgt/Assets/Details/BME0000019')   # 要轉換成 QRCode 的文字\n",
    "qr.make(fit=True)          # 根據參數製作為 QRCode 物件\n",
    "\n",
    "img = qr.make_image()      # 產生 QRCode 圖片\n",
    "img.show()\n",
    "img.save('qrcode_BME.png')    "
   ]
  },
  {
   "cell_type": "code",
   "execution_count": 3,
   "metadata": {},
   "outputs": [],
   "source": [
    "# 正常設備名單\n",
    "import pandas as pd\n",
    "file_path = 'E:/Python Practice/QRcode/20240119設備清單.xlsx'\n",
    "df_eqi = pd.read_excel(file_path, engine='openpyxl')\n",
    "\n",
    "eqi_dict = df_eqi[['財產編號', '設備編號']].set_index('財產編號').to_dict()['設備編號']"
   ]
  },
  {
   "cell_type": "code",
   "execution_count": 4,
   "metadata": {},
   "outputs": [
    {
     "name": "stdout",
     "output_type": "stream",
     "text": [
      "財產編號: 201812002301\n",
      "              財產編號        設備編號\n",
      "823   201812002301  BME0002315\n",
      "5884  201812002301  PUR0016804\n",
      "==============================\n",
      "財產編號: 201812002302\n",
      "              財產編號        設備編號\n",
      "824   201812002302  BME0002316\n",
      "5885  201812002302  PUR0016805\n",
      "==============================\n",
      "財產編號: 201812002303\n",
      "              財產編號        設備編號\n",
      "5886  201812002303  PUR0016806\n",
      "825   201812002303  BME0002317\n",
      "==============================\n",
      "財產編號: 201902005400\n",
      "              財產編號        設備編號\n",
      "762   201902005400  BME0002251\n",
      "5933  201902005400  PUR0016860\n",
      "==============================\n",
      "財產編號: 201903001500\n",
      "              財產編號        設備編號\n",
      "5948  201903001500  PUR0016885\n",
      "751   201903001500  BME0002239\n",
      "==============================\n",
      "財產編號: 201911001400\n",
      "              財產編號        設備編號\n",
      "6005  201911001400  PUR0016987\n",
      "834   201911001400  BME0002326\n",
      "==============================\n",
      "財產編號: 202003003000\n",
      "              財產編號        設備編號\n",
      "935   202003003000  BME0002428\n",
      "6150  202003003000  PUR0017240\n",
      "==============================\n",
      "財產編號: 202011000800\n",
      "              財產編號        設備編號\n",
      "6131  202011000800  PUR0017204\n",
      "1002  202011000800  BME0002503\n",
      "==============================\n",
      "財產編號: 202011001000\n",
      "              財產編號        設備編號\n",
      "6132  202011001000  PUR0017206\n",
      "1258  202011001000  BME0002783\n",
      "==============================\n",
      "財產編號: 202102001900\n",
      "              財產編號        設備編號\n",
      "1225  202102001900  BME0002749\n",
      "6195  202102001900  PUR0017298\n",
      "==============================\n",
      "財產編號: 202103006600\n",
      "              財產編號        設備編號\n",
      "1196  202103006600  BME0002720\n",
      "6222  202103006600  PUR0017332\n",
      "==============================\n",
      "財產編號: 202212000700\n",
      "              財產編號        設備編號\n",
      "1244  202212000700  BME0002768\n",
      "6688  202212000700  PUR0017867\n",
      "==============================\n",
      "財產編號: 202212000800\n",
      "              財產編號        設備編號\n",
      "1242  202212000800  BME0002766\n",
      "6689  202212000800  PUR0017868\n",
      "==============================\n",
      "財產編號: 202212000900\n",
      "              財產編號        設備編號\n",
      "1243  202212000900  BME0002767\n",
      "6690  202212000900  PUR0017869\n",
      "==============================\n"
     ]
    }
   ],
   "source": [
    "# 篩選出財產編號相同的醫材\n",
    "\n",
    "# print(len(eqi_dict)) # 7157\n",
    "# print(len(df_eqi)) # 7171\n",
    "duplicate_groups = df_eqi[df_eqi['財產編號'].duplicated(keep=False)].sort_values('財產編號')\n",
    "\n",
    "for _, group in duplicate_groups.groupby('財產編號'):\n",
    "    print(f\"財產編號: {group['財產編號'].iloc[0]}\")\n",
    "    print(group[['財產編號', '設備編號']])\n",
    "    print(\"=\"*30)"
   ]
  },
  {
   "cell_type": "markdown",
   "metadata": {},
   "source": [
    "函式撰寫"
   ]
  },
  {
   "cell_type": "code",
   "execution_count": 5,
   "metadata": {},
   "outputs": [],
   "source": [
    "# QRcode 大量生成：設備資訊\n",
    "import os\n",
    "import requests\n",
    "import qrcode\n",
    "import pandas as pd\n",
    "\n",
    "def check_and_generate_qrcode(base_url, prefix, stop_at, save_path,eqi_dict):\n",
    "    current_number = 1\n",
    "\n",
    "    while True:\n",
    "        current_url = f'{base_url}/{prefix}{str(current_number).zfill(7)}'\n",
    "        number = str(current_url.split(\"/\")[-1])\n",
    "        \n",
    "        # 判斷是否達到停止條件\n",
    "        if current_number > stop_at:\n",
    "            print(f'已達到停止條件 {stop_at}，停止生成 QR code。')\n",
    "            break\n",
    "\n",
    "        # # 檢查網址是否存在\n",
    "        # response = requests.get(current_url)\n",
    "        # if response.status_code != 200 or response.status_code != 404:\n",
    "        #     current_number += 1\n",
    "        #     continue\n",
    "\n",
    "        # 醫材狀態正常，生成QR code\n",
    "        elif number in eqi_dict.values():\n",
    "            qr = qrcode.QRCode(version=1,error_correction=qrcode.constants.ERROR_CORRECT_L,box_size=10,border=4)\n",
    "            qr.add_data(current_url)\n",
    "            qr.make(fit=True)\n",
    "\n",
    "            # 存檔QRcode，財產編號作為檔名\n",
    "            file_name = list(eqi_dict.keys())[list(eqi_dict.values()).index(number)]\n",
    "            file_path = os.path.join(save_path, f'{file_name}_設備基本資料.png')\n",
    "            img = qr.make_image()\n",
    "            img.save(file_path)\n",
    "            current_number += 1\n",
    "            print(number)\n",
    "\n",
    "        else:\n",
    "            current_number += 1\n",
    "            continue\n"
   ]
  },
  {
   "cell_type": "markdown",
   "metadata": {},
   "source": [
    "實際測試"
   ]
  },
  {
   "cell_type": "code",
   "execution_count": null,
   "metadata": {},
   "outputs": [],
   "source": [
    "base_url = 'https://bmed.tahsda.org.tw/bmedmgt/MedEngMgt/Assets/Details'\n",
    "save_path = 'E:/Python Practice/QRcode/設備資料QRcode/'\n",
    "\n",
    "check_and_generate_qrcode(base_url, 'PUR', 18400, save_path,eqi_dict)\n",
    "check_and_generate_qrcode(base_url, 'BME', 2850, save_path,eqi_dict)"
   ]
  }
 ],
 "metadata": {
  "kernelspec": {
   "display_name": ".venv",
   "language": "python",
   "name": "python3"
  },
  "language_info": {
   "codemirror_mode": {
    "name": "ipython",
    "version": 3
   },
   "file_extension": ".py",
   "mimetype": "text/x-python",
   "name": "python",
   "nbconvert_exporter": "python",
   "pygments_lexer": "ipython3",
   "version": "3.11.5"
  }
 },
 "nbformat": 4,
 "nbformat_minor": 2
}
